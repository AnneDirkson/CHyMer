{
 "cells": [
  {
   "cell_type": "code",
   "execution_count": 2,
   "id": "d470d297",
   "metadata": {},
   "outputs": [],
   "source": [
    "import pickle \n",
    "\n",
    "def load_obj (name):\n",
    "    with open(name + '.pkl', 'rb') as f:\n",
    "        return pickle.load(f, encoding='latin1')\n",
    "\n",
    "def save_obj(obj, name):\n",
    "    with open(name + '.pkl', 'wb') as f:\n",
    "        pickle.dump(obj, f, pickle.HIGHEST_PROTOCOL)\n",
    "        \n",
    "import ktrain"
   ]
  },
  {
   "cell_type": "code",
   "execution_count": 3,
   "id": "fe166d63",
   "metadata": {},
   "outputs": [
    {
     "data": {
      "text/plain": [
       "[]"
      ]
     },
     "execution_count": 3,
     "metadata": {},
     "output_type": "execute_result"
    }
   ],
   "source": [
    "x= load_obj('lbls_seed1')\n",
    "x"
   ]
  },
  {
   "cell_type": "code",
   "execution_count": 4,
   "id": "4945f5ce",
   "metadata": {},
   "outputs": [
    {
     "name": "stderr",
     "output_type": "stream",
     "text": [
      "404 Client Error: Not Found for url: https://huggingface.co/cimm-kzn/endr-bert/resolve/main/tf_model.h5\n"
     ]
    }
   ],
   "source": [
    "modeldir = 'C://Users//dirksonar//Documents//Data/Project12_pipeline/BERTfinal/predictor1_seed1'\n",
    "predictor = ktrain.load_predictor(modeldir)"
   ]
  },
  {
   "cell_type": "code",
   "execution_count": null,
   "id": "5ef3f49e",
   "metadata": {},
   "outputs": [],
   "source": [
    "sent = 'The bird ate the cuckoo clock'\n",
    "\n",
    "predictor.predict(sent)"
   ]
  }
 ],
 "metadata": {
  "kernelspec": {
   "display_name": "Python 3",
   "language": "python",
   "name": "python3"
  },
  "language_info": {
   "codemirror_mode": {
    "name": "ipython",
    "version": 3
   },
   "file_extension": ".py",
   "mimetype": "text/x-python",
   "name": "python",
   "nbconvert_exporter": "python",
   "pygments_lexer": "ipython3",
   "version": "3.8.8"
  }
 },
 "nbformat": 4,
 "nbformat_minor": 5
}
